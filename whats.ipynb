{
 "cells": [
  {
   "cell_type": "code",
   "execution_count": 3,
   "metadata": {},
   "outputs": [],
   "source": [
    "import pyautogui as pg\n",
    "import webbrowser as web\n",
    "import pandas as pd\n",
    "import time\n",
    "\n",
    "try:\n",
    "    data = pd.read_excel('contatos.xlsx')\n",
    "except Exception as e:\n",
    "    print(e)\n"
   ]
  },
  {
   "cell_type": "code",
   "execution_count": 15,
   "metadata": {},
   "outputs": [],
   "source": [
    "message = \"\"\n",
    "data_dict = data.to_dict('list')\n",
    "numeros = data_dict['WhatsApp']\n",
    "nomes = data_dict['firstname']\n",
    "combo = zip(numeros, nomes)\n",
    "first = True\n",
    "\n",
    "count = 0\n",
    "for numero, nome in combo:\n",
    "    time.sleep(4)\n",
    "    message = f\"Olá {nome}, testando automação!\\n Nº: {numero}\"\n",
    "    web.open(f\"https://web.whatsapp.com/send?phone={numero}&text={message}\")\n",
    "    time.sleep(10)\n",
    "    pg.press('enter')\n",
    "    time.sleep(1)\n",
    "    pg.hotkey('ctrl', 'w')\n",
    "    time.sleep(1)\n",
    "    pg.press('enter')\n",
    "    count+=1\n",
    "    \n",
    "    \n"
   ]
  }
 ],
 "metadata": {
  "kernelspec": {
   "display_name": "Python 3",
   "language": "python",
   "name": "python3"
  },
  "language_info": {
   "codemirror_mode": {
    "name": "ipython",
    "version": 3
   },
   "file_extension": ".py",
   "mimetype": "text/x-python",
   "name": "python",
   "nbconvert_exporter": "python",
   "pygments_lexer": "ipython3",
   "version": "3.10.6"
  },
  "orig_nbformat": 4
 },
 "nbformat": 4,
 "nbformat_minor": 2
}
